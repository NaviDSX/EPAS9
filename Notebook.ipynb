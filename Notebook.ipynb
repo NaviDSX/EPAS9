{
 "cells": [
  {
   "cell_type": "code",
   "execution_count": 1,
   "id": "a9f9c1c5-1f22-4d33-bc39-c6fc5846371f",
   "metadata": {},
   "outputs": [],
   "source": [
    "import session9\n",
    "from session9 import *"
   ]
  },
  {
   "cell_type": "markdown",
   "id": "01d6c882-d8f5-4ff9-8f3a-e32b8b869a5d",
   "metadata": {},
   "source": [
    "## Task1 : 250 points (including 5 test cases)\n",
    "### Use the Faker library to get 10000 random profiles. Using namedtuple, calculate the largest blood type, mean-current_location, oldest_person_age, and average age (add proper doc-strings)."
   ]
  },
  {
   "cell_type": "code",
   "execution_count": 2,
   "id": "06279c34-967a-40e0-b3f7-ae8df3d5e1a3",
   "metadata": {},
   "outputs": [],
   "source": [
    "# create NAMEDTUPLE from Faker\n",
    "ntobj = create_nt_from_fakeprofile(10)"
   ]
  },
  {
   "cell_type": "code",
   "execution_count": 3,
   "id": "f9f59753-457b-4bc3-8dec-71a77acb4084",
   "metadata": {},
   "outputs": [
    {
     "data": {
      "text/plain": [
       "('job',\n",
       " 'company',\n",
       " 'ssn',\n",
       " 'residence',\n",
       " 'current_location',\n",
       " 'blood_group',\n",
       " 'website',\n",
       " 'username',\n",
       " 'name',\n",
       " 'sex',\n",
       " 'address',\n",
       " 'mail',\n",
       " 'birthdate')"
      ]
     },
     "execution_count": 3,
     "metadata": {},
     "output_type": "execute_result"
    }
   ],
   "source": [
    "ntobj._fields"
   ]
  },
  {
   "cell_type": "code",
   "execution_count": 4,
   "id": "fbcfafb1-07fe-4d58-8904-3851ae312f09",
   "metadata": {},
   "outputs": [
    {
     "data": {
      "text/plain": [
       "'A-'"
      ]
     },
     "execution_count": 4,
     "metadata": {},
     "output_type": "execute_result"
    }
   ],
   "source": [
    "#Return largest blood typ: NAMEDTUPLE\n",
    "max_bloodgroup_nt(ntobj)"
   ]
  },
  {
   "cell_type": "code",
   "execution_count": 5,
   "id": "bcfbc3d7-d23c-4df7-a34b-4d9bb0aac07a",
   "metadata": {},
   "outputs": [
    {
     "data": {
      "text/plain": [
       "(Decimal('-14.0820049'), Decimal('2.0593476'))"
      ]
     },
     "execution_count": 5,
     "metadata": {},
     "output_type": "execute_result"
    }
   ],
   "source": [
    "#mean-current_location: NAMEDTUPLE\n",
    "mean_currentlocation_nt(ntobj)"
   ]
  },
  {
   "cell_type": "code",
   "execution_count": 6,
   "id": "51bf0b81-9ecf-4c2b-bc7f-daeff359e5f9",
   "metadata": {},
   "outputs": [
    {
     "data": {
      "text/plain": [
       "38546"
      ]
     },
     "execution_count": 6,
     "metadata": {},
     "output_type": "execute_result"
    }
   ],
   "source": [
    "#Return oldest_person_age (in days): NAMEDTUPLE\n",
    "oldest_age_nt(ntobj)"
   ]
  },
  {
   "cell_type": "code",
   "execution_count": 7,
   "id": "f10b9eff-d19b-453a-94df-e851a708149f",
   "metadata": {},
   "outputs": [
    {
     "data": {
      "text/plain": [
       "20672.4"
      ]
     },
     "execution_count": 7,
     "metadata": {},
     "output_type": "execute_result"
    }
   ],
   "source": [
    "#Return average age (in days): NAMEDTUPLE\n",
    "mean_age_nt(ntobj)"
   ]
  },
  {
   "cell_type": "code",
   "execution_count": 8,
   "id": "d6af4f82-e33c-4142-9b8a-b4f62c9c192e",
   "metadata": {},
   "outputs": [
    {
     "name": "stdout",
     "output_type": "stream",
     "text": [
      "Help on function create_nt_from_fakeprofile in module session9:\n",
      "\n",
      "create_nt_from_fakeprofile(num_of_records: int)\n",
      "    Create a namedtuple object with 'num_of_records' from fake.profile library.\n",
      "\n"
     ]
    }
   ],
   "source": [
    "# Validate Docstrings:\n",
    "help(create_nt_from_fakeprofile)"
   ]
  },
  {
   "cell_type": "markdown",
   "id": "24d31924-881d-4c71-93f1-c40bf55eca62",
   "metadata": {},
   "source": [
    "## Task 2 : 250 points (including 5 test cases)\n",
    "### Do the same thing above using a dictionary. Prove that namedtuple is faster."
   ]
  },
  {
   "cell_type": "code",
   "execution_count": 9,
   "id": "badaa8a6-21c7-44b6-b139-a7ac7659fecb",
   "metadata": {},
   "outputs": [],
   "source": [
    "# create DICTIONARY from Faker:\n",
    "nd = create_dict_from_fakeprofile(10)"
   ]
  },
  {
   "cell_type": "code",
   "execution_count": 10,
   "id": "bac6ca70-e24f-48b4-8dfe-9b83dfbe8349",
   "metadata": {},
   "outputs": [],
   "source": [
    "# create DICTIONARY from NAMEDTUPLE:\n",
    "nd = ntobj._asdict()"
   ]
  },
  {
   "cell_type": "code",
   "execution_count": 11,
   "id": "491cd1e4-c551-45fa-885b-464ce7f104cf",
   "metadata": {},
   "outputs": [
    {
     "data": {
      "text/plain": [
       "dict_keys(['job', 'company', 'ssn', 'residence', 'current_location', 'blood_group', 'website', 'username', 'name', 'sex', 'address', 'mail', 'birthdate'])"
      ]
     },
     "execution_count": 11,
     "metadata": {},
     "output_type": "execute_result"
    }
   ],
   "source": [
    "nd.keys()"
   ]
  },
  {
   "cell_type": "code",
   "execution_count": 12,
   "id": "a7b0dc50-61a7-4090-a32f-e5153ac66b83",
   "metadata": {},
   "outputs": [
    {
     "data": {
      "text/plain": [
       "'A-'"
      ]
     },
     "execution_count": 12,
     "metadata": {},
     "output_type": "execute_result"
    }
   ],
   "source": [
    "#Return largest blood type: DICTIONARY\n",
    "max_bloodgroup_nt(ntobj)"
   ]
  },
  {
   "cell_type": "code",
   "execution_count": 13,
   "id": "d729e66f-d745-4cb3-9ab2-0bf2d69a8cce",
   "metadata": {},
   "outputs": [
    {
     "data": {
      "text/plain": [
       "(Decimal('-14.0820049'), Decimal('2.0593476'))"
      ]
     },
     "execution_count": 13,
     "metadata": {},
     "output_type": "execute_result"
    }
   ],
   "source": [
    "#mean-current_location: DICTIONARY\n",
    "mean_currentlocation_nt(ntobj)"
   ]
  },
  {
   "cell_type": "code",
   "execution_count": 14,
   "id": "7ce0a614-8da5-44cf-bdec-634dad79d940",
   "metadata": {},
   "outputs": [
    {
     "data": {
      "text/plain": [
       "38546"
      ]
     },
     "execution_count": 14,
     "metadata": {},
     "output_type": "execute_result"
    }
   ],
   "source": [
    "#Return oldest_person_age (in days): DICTIONARY\n",
    "oldest_age_nt(ntobj)"
   ]
  },
  {
   "cell_type": "code",
   "execution_count": 15,
   "id": "cc4a1986-0570-45d3-b9eb-fe6a25876534",
   "metadata": {},
   "outputs": [
    {
     "data": {
      "text/plain": [
       "20672.4"
      ]
     },
     "execution_count": 15,
     "metadata": {},
     "output_type": "execute_result"
    }
   ],
   "source": [
    "#Return average age (in days): DICTIONARY\n",
    "mean_age_nt(ntobj)"
   ]
  },
  {
   "cell_type": "code",
   "execution_count": 16,
   "id": "78ab198c-e122-4748-a456-6bf43ed8a955",
   "metadata": {},
   "outputs": [],
   "source": [
    "# Validate Docstrings:"
   ]
  },
  {
   "cell_type": "code",
   "execution_count": 17,
   "id": "0d79ef45-13b0-49cf-904c-d14ca507c649",
   "metadata": {},
   "outputs": [
    {
     "name": "stdout",
     "output_type": "stream",
     "text": [
      "Help on function create_dict_from_fakeprofile in module session9:\n",
      "\n",
      "create_dict_from_fakeprofile(num_of_records: int)\n",
      "    Create a dictionary object with 'num_of_records' from fake.profile library.\n",
      "\n"
     ]
    }
   ],
   "source": [
    "help(create_dict_from_fakeprofile)"
   ]
  },
  {
   "cell_type": "markdown",
   "id": "99e4550d-a19e-488a-b27c-d5802bc29111",
   "metadata": {},
   "source": [
    "### Function to Evaluate time betweeen dict and namedtuple for the above functions:"
   ]
  },
  {
   "cell_type": "code",
   "execution_count": 18,
   "id": "87d2bf5b-0be7-425a-9e18-302eaf3be639",
   "metadata": {},
   "outputs": [
    {
     "name": "stdout",
     "output_type": "stream",
     "text": [
      " Dict Time is 0.118248s, Named Tuple Time is 0.055229s , Gain is 2.141%\n"
     ]
    }
   ],
   "source": [
    "eval_time(ntobj)"
   ]
  },
  {
   "cell_type": "markdown",
   "id": "92a07757-a281-45f4-8a7a-7e4dea3d8e0f",
   "metadata": {},
   "source": [
    "## Task 3 : 500 points (including 10 test cases)\n",
    "### Create fake data (you can use Faker for company names) for imaginary stock exchange for top 100 companies (name, symbol, open, high, close). Assign a random weight to all the companies. Calculate and show what value the stock market started at, what was the highest value during the day, and where did it end. Make sure your open, high, close are not totally random. You can only use namedtuple.\n"
   ]
  },
  {
   "cell_type": "code",
   "execution_count": 19,
   "id": "7e1d6902-0798-4555-af7c-e2bce22419af",
   "metadata": {},
   "outputs": [],
   "source": [
    "#Create stockexchange with marketcap and number of companies\n",
    "initial = create_stockexchangeobj(5000,100)"
   ]
  },
  {
   "cell_type": "code",
   "execution_count": 20,
   "id": "acb78242-9178-4224-9fa7-667ec78b46d1",
   "metadata": {},
   "outputs": [
    {
     "data": {
      "text/plain": [
       "('company',\n",
       " 'symbol',\n",
       " 'openn',\n",
       " 'high',\n",
       " 'close',\n",
       " 'weight',\n",
       " 'marketcap',\n",
       " 'trades')"
      ]
     },
     "execution_count": 20,
     "metadata": {},
     "output_type": "execute_result"
    }
   ],
   "source": [
    "initial._fields"
   ]
  },
  {
   "cell_type": "code",
   "execution_count": 21,
   "id": "07b3871d-487d-45c6-8e9d-f1b63e0f4bc7",
   "metadata": {},
   "outputs": [
    {
     "name": "stdout",
     "output_type": "stream",
     "text": [
      "\n",
      "The opening marketcap ws 5003.5 Billion \n",
      "The highest marketcap is 5998.3 Billion \n",
      "The closing marketcap is 5060.23 Billion \n",
      "Total Trades : 80 \n",
      "Change is 1.13 %\n",
      "\n",
      "The opening marketcap ws 5060.23 Billion \n",
      "The highest marketcap is 6064.88 Billion \n",
      "The closing marketcap is 5128.91 Billion \n",
      "Total Trades : 79 \n",
      "Change is 1.36 %\n",
      "\n",
      "The opening marketcap ws 5128.91 Billion \n",
      "The highest marketcap is 6140.32 Billion \n",
      "The closing marketcap is 5184.02 Billion \n",
      "Total Trades : 78 \n",
      "Change is 1.07 %\n",
      "\n",
      "The opening marketcap ws 5184.02 Billion \n",
      "The highest marketcap is 6211.94 Billion \n",
      "The closing marketcap is 5168.33 Billion \n",
      "Total Trades : 77 \n",
      "Change is -0.30 %\n",
      "\n",
      "The opening marketcap ws 5168.33 Billion \n",
      "The highest marketcap is 6188.6 Billion \n",
      "The closing marketcap is 5234.83 Billion \n",
      "Total Trades : 76 \n",
      "Change is 1.29 %\n"
     ]
    }
   ],
   "source": [
    "stock_trades_days(initial,5,80)"
   ]
  },
  {
   "cell_type": "code",
   "execution_count": 22,
   "id": "df057600-3a8b-4eb8-9810-b56eda37a752",
   "metadata": {},
   "outputs": [
    {
     "name": "stdout",
     "output_type": "stream",
     "text": [
      "days or trades cannot be less than 1\n"
     ]
    }
   ],
   "source": [
    "stock_trades_days(initial,0,0)"
   ]
  },
  {
   "cell_type": "code",
   "execution_count": 23,
   "id": "447baab5-6853-46fe-b703-2f0ed3150af3",
   "metadata": {},
   "outputs": [
    {
     "name": "stdout",
     "output_type": "stream",
     "text": [
      "days or trades cannot be less than 1\n"
     ]
    }
   ],
   "source": [
    "stock_trades_days(initial,0,-1)"
   ]
  }
 ],
 "metadata": {
  "kernelspec": {
   "display_name": "Python 3",
   "language": "python",
   "name": "python3"
  },
  "language_info": {
   "codemirror_mode": {
    "name": "ipython",
    "version": 3
   },
   "file_extension": ".py",
   "mimetype": "text/x-python",
   "name": "python",
   "nbconvert_exporter": "python",
   "pygments_lexer": "ipython3",
   "version": "3.9.5"
  }
 },
 "nbformat": 4,
 "nbformat_minor": 5
}
